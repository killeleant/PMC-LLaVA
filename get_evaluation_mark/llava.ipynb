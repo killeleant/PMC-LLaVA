{
 "cells": [
  {
   "cell_type": "code",
   "execution_count": 2,
   "metadata": {},
   "outputs": [],
   "source": [
    "import glob\n",
    "import os\n",
    "from io import BytesIO\n",
    "\n",
    "import ollama\n",
    "import pandas as pd\n",
    "from ollama import generate\n",
    "from PIL import Image\n",
    "import requests\n"
   ]
  },
  {
   "cell_type": "code",
   "execution_count": 26,
   "metadata": {},
   "outputs": [],
   "source": [
    "def process_image():\n",
    "    # print(f\"\\nProcessing {image_file}\\n\")\n",
    "    url = \"https://github.com/haotian-liu/LLaVA/blob/1a91fc274d7c35a9b50b3cb29c4247ae5837ce39/images/llava_v1_5_radar.jpg?raw=true\"\n",
    "    # image =\n",
    "    with Image.open(requests.get(url, stream=True).raw) as img:\n",
    "        with BytesIO() as buffer:\n",
    "            img.save(buffer, format=\"PNG\")\n",
    "            image_bytes = buffer.getvalue()\n",
    "\n",
    "    full_response = \"\"\n",
    "    # Generate a description of the image\n",
    "    for response in generate(\n",
    "        model=\"llava:latest\",\n",
    "        prompt=\"[INST] <image>\\nWhat is shown in this image? [/INST]\",\n",
    "        # prompt=\"are regions of the brain infarcted?\",\n",
    "        images=[image_bytes],\n",
    "        stream=True,\n",
    "    ):\n",
    "        # Print the response to the console and add it to the full response\n",
    "        print(response[\"response\"], end=\"\", flush=True)\n",
    "        full_response += response[\"response\"]\n",
    "\n",
    "    # Add a new row to the DataFrame\n",
    "    # df.loc[len(df)] = [image_file, full_response]"
   ]
  },
  {
   "cell_type": "code",
   "execution_count": 23,
   "metadata": {},
   "outputs": [
    {
     "name": "stdout",
     "output_type": "stream",
     "text": [
      " The image displays a circular chart with various data points, each represented by a different symbol and color. The chart appears to be a type of radar or spider chart, which is used to display multivariate data in the form of a two-dimensional graph of three or more quantitative variables represented on axes starting from the same point.\n",
      "\n",
      "Each axis represents a different variable, with labels such as \"VA2\", \"VQ2\", \"MVA\", and others that are not fully legible due to the image's resolution. The axes are marked with numerical values and seem to be measuring some sort of performance metrics or scores.\n",
      "\n",
      "The chart is color-coded to differentiate between data points, such as VA2, VQ2, MVA, etc., which suggests that each color corresponds to a specific variable.\n",
      "\n",
      "At the top left corner of the chart, there's a note indicating \"VQ2\" with a value of 90, followed by \"MVA\" with a value of 80, and other variables not fully legible in this image. The values are likely scores or metrics related to performance in a certain field or task.\n",
      "\n",
      "Overall, the chart is a way to visually compare the performance across different dimensions within a system or dataset. \n"
     ]
    }
   ],
   "source": [
    "url = \"https://github.com/haotian-liu/LLaVA/blob/1a91fc274d7c35a9b50b3cb29c4247ae5837ce39/images/llava_v1_5_radar.jpg?raw=true\"\n",
    "# image =\n",
    "with Image.open(requests.get(url, stream=True).raw) as img:\n",
    "    with BytesIO() as buffer:\n",
    "        img.save(buffer, format=\"PNG\")\n",
    "        image_bytes = buffer.getvalue()\n",
    "        # import ollama\n",
    "    response = ollama.chat(\n",
    "        model=\"llava:latest\",\n",
    "        messages=[\n",
    "            {\n",
    "                \"role\": \"user\",\n",
    "                \"content\": \"[INST] <image>\\nWhat is shown in this image? [/INST]\",\n",
    "                \"images\": [image_bytes],\n",
    "            },\n",
    "        ],\n",
    "    )\n",
    "    print(response[\"message\"][\"content\"])"
   ]
  },
  {
   "cell_type": "code",
   "execution_count": 27,
   "metadata": {},
   "outputs": [
    {
     "name": "stdout",
     "output_type": "stream",
     "text": [
      " The image shows a radar chart, which is used to represent multivariate data in the form of a two-dimensional chart of three or more quantitative variables represented on axes starting from the same point. This particular radar chart has various labels and values that correspond to different performance metrics of a vehicle across multiple dimensions such as Vehicle Dynamics, Seat/Interior Comfort, Storage/Cargo Capacity, Exterior Design/Aerodynamics, Safety, and Environmental Impact (as indicated by the legend in the center).\n",
      "\n",
      "Each axis represents a different dimension or category: \"VA2,\" \"QA2,\" \"M/M V,\" \"L/V Bench,\" \"SQM,\" \"CGM,\" \"M/M V,\" \"TWV,\" and \"SEED-Bench.\" The axes are color-coded, with each color representing a different metric or category.\n",
      "\n",
      "The chart also includes some specific values for certain metrics:\n",
      "- VA2: 87, 69, 100, 100, 54\n",
      "- QA2: 62, 63, 100, 100, 69\n",
      "- M/M V: 100, 66, 100, 100, 71\n",
      "- L/V Bench: 85, 70, 100, 100, 58\n",
      "- SQM: 95\n",
      "- CGM: 100\n",
      "- M/M V: 100, 72, 100, 100, 67\n",
      "- TWV: 65, 64, 100, 100, 85\n",
      "- SEED-Bench: 100, 64, 100, 100, 73\n",
      "\n",
      "The specific values are likely benchmarks or targets for the performance metrics in question. The chart appears to be used for performance analysis, possibly within an automotive context to evaluate different aspects of vehicle performance against a set of standards or goals. "
     ]
    }
   ],
   "source": [
    "process_image()"
   ]
  }
 ],
 "metadata": {
  "kernelspec": {
   "display_name": "autoGluon",
   "language": "python",
   "name": "python3"
  },
  "language_info": {
   "codemirror_mode": {
    "name": "ipython",
    "version": 3
   },
   "file_extension": ".py",
   "mimetype": "text/x-python",
   "name": "python",
   "nbconvert_exporter": "python",
   "pygments_lexer": "ipython3",
   "version": "3.9.18"
  }
 },
 "nbformat": 4,
 "nbformat_minor": 2
}
